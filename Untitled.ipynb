{
 "cells": [
  {
   "cell_type": "code",
   "execution_count": 41,
   "metadata": {},
   "outputs": [],
   "source": [
    "import nltk\n",
    "import random\n",
    "import pickle\n",
    "\n",
    "import numpy as np\n",
    "\n",
    "from nltk import word_tokenize\n",
    "from nltk import WordNetLemmatizer\n",
    "from collections import Counter"
   ]
  },
  {
   "cell_type": "code",
   "execution_count": 32,
   "metadata": {},
   "outputs": [],
   "source": [
    "lemmatizer = WordNetLemmatizer()"
   ]
  },
  {
   "cell_type": "code",
   "execution_count": 33,
   "metadata": {},
   "outputs": [],
   "source": [
    "word_freq_ub = 1000\n",
    "word_freq_lb = 50\n",
    "\n",
    "pos_file = 'pos.txt'\n",
    "neg_file = 'neg.txt'"
   ]
  },
  {
   "cell_type": "code",
   "execution_count": 27,
   "metadata": {},
   "outputs": [],
   "source": [
    "def create_lexicon(pos, neg):\n",
    "    lexicon = []\n",
    "        \n",
    "    for fname in [pos, neg]:\n",
    "        with open(pos) as fp:\n",
    "            lines = fp.readlines()\n",
    "        for line in lines:\n",
    "            words = list(word_tokenize(line.lower()))\n",
    "            for w in words:\n",
    "                lexicon.append(w)\n",
    "\n",
    "    w_counts = Counter([lemmatizer.lemmatize(w) for w in lexicon])\n",
    "\n",
    "    lexicon = [w for w in w_counts if word_freq_ub > w_counts[w] > word_freq_lb]\n",
    "\n",
    "    return lexicon"
   ]
  },
  {
   "cell_type": "code",
   "execution_count": 28,
   "metadata": {},
   "outputs": [],
   "source": [
    "def sample_handling(sample, lexicon, classification):\n",
    "    feature_set = []\n",
    "    with open(sample, 'r') as f:\n",
    "        contents = f.readlines()\n",
    "        for l in contents:\n",
    "            current_words = word_tokenize(l.lower())\n",
    "            current_words = [lemmatizer.lemmatize(w) for w in current_words]\n",
    "            features = np.zeros(len(lexicon))\n",
    "            for word in current_words:\n",
    "                if word in lexicon:\n",
    "                    index = lexicon.index(word)\n",
    "                    features[index] += 1\n",
    "            features = list(features)\n",
    "            feature_set.append([features, classification])\n",
    "    return feature_set"
   ]
  },
  {
   "cell_type": "code",
   "execution_count": 39,
   "metadata": {},
   "outputs": [],
   "source": [
    "def create_feature_sets_and_labels(pos, neg, test_size=0.2):\n",
    "    lexicon = create_lexicon(pos, neg)\n",
    "    features = []\n",
    "    features += sample_handling(pos, lexicon, [1, 0])\n",
    "    features += sample_handling(neg, lexicon, [0, 1])\n",
    "    random.shuffle(features)\n",
    "\n",
    "    features = np.array(features)\n",
    "    \n",
    "    testing_size = int(test_size * len(features))\n",
    "    train_x = list(features[:, 0][: -testing_size])\n",
    "    train_y = list(features[:, 1][: -testing_size])\n",
    "\n",
    "    test_x = list(features[:, 0][-testing_size :])\n",
    "    test_y = list(features[:, 1][-testing_size :])\n",
    "    \n",
    "    return train_x, train_y, test_x, test_y"
   ]
  },
  {
   "cell_type": "code",
   "execution_count": 40,
   "metadata": {},
   "outputs": [],
   "source": [
    "train_x, train_y, test_x, test_y = create_feature_sets_and_labels(pos_file, neg_file)"
   ]
  },
  {
   "cell_type": "code",
   "execution_count": 42,
   "metadata": {},
   "outputs": [],
   "source": [
    "with open('sentiment_set.pickle', 'wb') as f:\n",
    "    pickle.dump([train_x, train_y, test_x, test_y], f)\n"
   ]
  },
  {
   "cell_type": "code",
   "execution_count": 46,
   "metadata": {},
   "outputs": [],
   "source": [
    "with open('sentiment_set.pickle', 'rb') as f:\n",
    "    L = pickle.load(f)"
   ]
  }
 ],
 "metadata": {
  "kernelspec": {
   "display_name": "Python 3",
   "language": "python",
   "name": "python3"
  },
  "language_info": {
   "codemirror_mode": {
    "name": "ipython",
    "version": 3
   },
   "file_extension": ".py",
   "mimetype": "text/x-python",
   "name": "python",
   "nbconvert_exporter": "python",
   "pygments_lexer": "ipython3",
   "version": "3.6.2"
  }
 },
 "nbformat": 4,
 "nbformat_minor": 2
}
