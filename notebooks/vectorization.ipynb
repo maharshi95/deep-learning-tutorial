{
 "cells": [
  {
   "cell_type": "code",
   "execution_count": 1,
   "metadata": {},
   "outputs": [],
   "source": [
    "import numpy as np"
   ]
  },
  {
   "cell_type": "code",
   "execution_count": 27,
   "metadata": {},
   "outputs": [
    {
     "name": "stdout",
     "output_type": "stream",
     "text": [
      "[ 0.80479631  0.7450614   0.21361988 ...,  0.9170211   0.5164936\n",
      "  0.37531595]\n",
      "[1 0 0 ..., 0 1 1]\n"
     ]
    }
   ],
   "source": [
    "n = 100000\n",
    "a = np.random.rand(n)\n",
    "y = np.random.randint(0,2,n)\n",
    "print(a)\n",
    "print(y)"
   ]
  },
  {
   "cell_type": "code",
   "execution_count": 28,
   "metadata": {},
   "outputs": [
    {
     "name": "stdout",
     "output_type": "stream",
     "text": [
      "[ 0.21716607  1.36673256  0.240315   ...,  2.48916891  0.66069238\n",
      "  0.97998707]\n"
     ]
    }
   ],
   "source": [
    "c = - (y * np.log(a) + (1 - y) * np.log(1 - a))\n",
    "print(c)"
   ]
  },
  {
   "cell_type": "code",
   "execution_count": 30,
   "metadata": {},
   "outputs": [
    {
     "name": "stdout",
     "output_type": "stream",
     "text": [
      "[ 0.21716607  1.36673256  0.240315   ...,  2.48916891  0.66069238\n",
      "  0.97998707]\n"
     ]
    }
   ],
   "source": [
    "d = - (np.log(np.abs(1 - a - y)))\n",
    "print(d)"
   ]
  },
  {
   "cell_type": "code",
   "execution_count": 31,
   "metadata": {},
   "outputs": [
    {
     "name": "stdout",
     "output_type": "stream",
     "text": [
      "100270.282163 100270.282163\n"
     ]
    }
   ],
   "source": [
    "print(np.sum(c), np.sum(d))"
   ]
  },
  {
   "cell_type": "code",
   "execution_count": null,
   "metadata": {},
   "outputs": [],
   "source": []
  }
 ],
 "metadata": {
  "kernelspec": {
   "display_name": "Python 3",
   "language": "python",
   "name": "python3"
  },
  "language_info": {
   "codemirror_mode": {
    "name": "ipython",
    "version": 3
   },
   "file_extension": ".py",
   "mimetype": "text/x-python",
   "name": "python",
   "nbconvert_exporter": "python",
   "pygments_lexer": "ipython3",
   "version": "3.6.2"
  }
 },
 "nbformat": 4,
 "nbformat_minor": 2
}
